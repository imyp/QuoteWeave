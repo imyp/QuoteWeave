{
 "cells": [
  {
   "cell_type": "code",
   "execution_count": 10,
   "metadata": {},
   "outputs": [
    {
     "name": "stderr",
     "output_type": "stream",
     "text": [
      "/mnt/d/repos/github/QuoteWeave/models/.venv/lib/python3.11/site-packages/transformers/quantizers/auto.py:212: UserWarning: You passed `quantization_config` or equivalent parameters to `from_pretrained` but the model you're loading already has a `quantization_config` attribute. The `quantization_config` from the model will be used.\n",
      "  warnings.warn(warning_msg)\n"
     ]
    }
   ],
   "source": [
    "from transformers import T5ForConditionalGeneration, AutoTokenizer, BitsAndBytesConfig\n",
    "import torch\n",
    "\n",
    "repo_name = \"fristrup/flan-t5-semantic-tagger-small-4bit\"\n",
    "\n",
    "\n",
    "quantization_config = BitsAndBytesConfig(\n",
    "    load_in_4bit=True,\n",
    "    bnb_4bit_compute_dtype=torch.float16,\n",
    "    bnb_4bit_use_double_quant=True,\n",
    "    bnb_4bit_quant_type=\"nf4\",\n",
    ")\n",
    "\n",
    "tokenizer = AutoTokenizer.from_pretrained(repo_name)\n",
    "model = T5ForConditionalGeneration.from_pretrained(\n",
    "    repo_name, \n",
    "    quantization_config=quantization_config,\n",
    "    torch_dtype=torch.float16,\n",
    "    device_map=\"cpu\"\n",
    ")"
   ]
  },
  {
   "cell_type": "code",
   "execution_count": 11,
   "metadata": {},
   "outputs": [],
   "source": [
    "import pandas as pd"
   ]
  },
  {
   "cell_type": "code",
   "execution_count": 12,
   "metadata": {},
   "outputs": [],
   "source": [
    "df = pd.read_csv(\"hf://datasets/jstet/quotes-500k/quotes.csv\")"
   ]
  },
  {
   "cell_type": "code",
   "execution_count": 13,
   "metadata": {},
   "outputs": [],
   "source": [
    "def predict_tags(model, tokenizer, text, max_length=128):\n",
    "    \"\"\"\n",
    "    Generate tags for a given text using the trained model\n",
    "    \"\"\"\n",
    "    # Prepare the input\n",
    "    inputs = tokenizer(text, return_tensors=\"pt\", truncation=True, max_length=512)\n",
    "    input_ids = inputs.input_ids\n",
    "\n",
    "    # Move to the same device as model\n",
    "    device = model.device\n",
    "    input_ids = input_ids.to(device)\n",
    "\n",
    "    # Generate tags\n",
    "    with torch.no_grad():\n",
    "        outputs = model.generate(\n",
    "            input_ids=input_ids,\n",
    "            max_length=max_length,\n",
    "            early_stopping=True,\n",
    "        )\n",
    "\n",
    "    # Decode the generated tokens\n",
    "    predicted_tags = tokenizer.decode(outputs[0], skip_special_tokens=True)\n",
    "\n",
    "    # Clean up tags - split by comma and strip whitespace\n",
    "    tags = [tag.strip() for tag in predicted_tags.split(\",\") if tag.strip()]\n",
    "\n",
    "    # Remove duplicates while preserving order\n",
    "    unique_tags = []\n",
    "    for tag in tags:\n",
    "        if tag not in unique_tags:\n",
    "            unique_tags.append(tag)\n",
    "\n",
    "    return unique_tags"
   ]
  },
  {
   "cell_type": "code",
   "execution_count": 14,
   "metadata": {},
   "outputs": [],
   "source": [
    "def create_input_text(quote, author):\n",
    "    \"\"\"Create the input text with descriptive prompt\"\"\"\n",
    "    return f'What tags or categories would best describe this quote: \"{quote}\" by {author}? Provide comma-separated tags.'"
   ]
  },
  {
   "cell_type": "code",
   "execution_count": 15,
   "metadata": {},
   "outputs": [
    {
     "name": "stdout",
     "output_type": "stream",
     "text": [
      "['selfish', 'impatient', 'insecure']\n",
      "['love', 'love-quotes']\n",
      "['dreams', 'dream-quotes']\n",
      "['love', 'friend']\n",
      "['darkness', 'hate', 'love']\n",
      "['love', 'love-of-belief']\n",
      "['love', 'happiness', 'life']\n",
      "['love', 'hate']\n",
      "['love', 'fall', 'sleep']\n",
      "['indifference', 'love']\n"
     ]
    }
   ],
   "source": [
    "for i in range(10):\n",
    "    print(predict_tags(\n",
    "        model, tokenizer, create_input_text(df[\"quote\"].iloc[i], df[\"author\"].iloc[i])\n",
    "    ))"
   ]
  }
 ],
 "metadata": {
  "kernelspec": {
   "display_name": ".venv",
   "language": "python",
   "name": "python3"
  },
  "language_info": {
   "codemirror_mode": {
    "name": "ipython",
    "version": 3
   },
   "file_extension": ".py",
   "mimetype": "text/x-python",
   "name": "python",
   "nbconvert_exporter": "python",
   "pygments_lexer": "ipython3",
   "version": "3.11.9"
  }
 },
 "nbformat": 4,
 "nbformat_minor": 2
}
