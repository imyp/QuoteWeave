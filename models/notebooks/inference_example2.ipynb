{
 "cells": [
  {
   "cell_type": "code",
   "execution_count": 26,
   "metadata": {},
   "outputs": [],
   "source": [
    "from transformers import T5ForConditionalGeneration, AutoTokenizer, BitsAndBytesConfig\n",
    "import torch\n",
    "\n",
    "repo_name = \"fristrup/flan-t5-semantic-tagger-base-4bit\"\n",
    "\n",
    "\n",
    "quantization_config = BitsAndBytesConfig(\n",
    "    load_in_4bit=True,\n",
    "    bnb_4bit_compute_dtype=torch.float16,\n",
    "    bnb_4bit_use_double_quant=True,\n",
    "    bnb_4bit_quant_type=\"nf4\",\n",
    ")\n",
    "\n",
    "tokenizer = AutoTokenizer.from_pretrained(repo_name)\n",
    "model = T5ForConditionalGeneration.from_pretrained(\n",
    "    repo_name, \n",
    "    quantization_config=quantization_config,\n",
    "    torch_dtype=torch.float16,\n",
    "    device_map=\"auto\"\n",
    ")"
   ]
  },
  {
   "cell_type": "code",
   "execution_count": 27,
   "metadata": {},
   "outputs": [],
   "source": [
    "import pandas as pd"
   ]
  },
  {
   "cell_type": "code",
   "execution_count": 34,
   "metadata": {},
   "outputs": [],
   "source": [
    "def predict_tags(model, tokenizer, text, max_length=128):\n",
    "    \"\"\"\n",
    "    Generate tags for a given text using the trained model\n",
    "    \"\"\"\n",
    "    # Prepare the input\n",
    "    inputs = tokenizer(text, return_tensors=\"pt\", truncation=True, max_length=512)\n",
    "    input_ids = inputs.input_ids\n",
    "\n",
    "    # Move to the same device as model\n",
    "    device = model.device\n",
    "    input_ids = input_ids.to(device)\n",
    "\n",
    "    # Generate tags\n",
    "    with torch.no_grad():\n",
    "        outputs = model.generate(\n",
    "            input_ids=input_ids,\n",
    "            max_length=max_length,\n",
    "            early_stopping=True,\n",
    "        )\n",
    "\n",
    "    # Decode the generated tokens\n",
    "    predicted_tags = tokenizer.decode(outputs[0], skip_special_tokens=True)\n",
    "\n",
    "    # Clean up tags - split by comma and strip whitespace\n",
    "    tags = [tag.strip() for tag in predicted_tags.split(\",\") if tag.strip()]\n",
    "\n",
    "    # Remove duplicates while preserving order\n",
    "    unique_tags = []\n",
    "    for tag in tags:\n",
    "        if tag not in unique_tags:\n",
    "            unique_tags.append(tag)\n",
    "\n",
    "    return unique_tags"
   ]
  },
  {
   "cell_type": "code",
   "execution_count": 29,
   "metadata": {},
   "outputs": [],
   "source": [
    "df = pd.read_csv(\"hf://datasets/jstet/quotes-500k/quotes.csv\")"
   ]
  },
  {
   "cell_type": "code",
   "execution_count": 33,
   "metadata": {},
   "outputs": [
    {
     "ename": "IndexError",
     "evalue": "index 1 is out of bounds for dimension 0 with size 1",
     "output_type": "error",
     "traceback": [
      "\u001b[31m---------------------------------------------------------------------------\u001b[39m",
      "\u001b[31mIndexError\u001b[39m                                Traceback (most recent call last)",
      "\u001b[36mCell\u001b[39m\u001b[36m \u001b[39m\u001b[32mIn[33]\u001b[39m\u001b[32m, line 1\u001b[39m\n\u001b[32m----> \u001b[39m\u001b[32m1\u001b[39m predicted_tags = \u001b[43mpredict_tags\u001b[49m\u001b[43m(\u001b[49m\u001b[43mmodel\u001b[49m\u001b[43m,\u001b[49m\u001b[43m \u001b[49m\u001b[43mtokenizer\u001b[49m\u001b[43m,\u001b[49m\u001b[43m \u001b[49m\u001b[43mdf\u001b[49m\u001b[43m[\u001b[49m\u001b[33;43m\"\u001b[39;49m\u001b[33;43mquote\u001b[39;49m\u001b[33;43m\"\u001b[39;49m\u001b[43m]\u001b[49m\u001b[43m.\u001b[49m\u001b[43miloc\u001b[49m\u001b[43m[\u001b[49m\u001b[32;43m1\u001b[39;49m\u001b[43m]\u001b[49m\u001b[43m)\u001b[49m\n",
      "\u001b[36mCell\u001b[39m\u001b[36m \u001b[39m\u001b[32mIn[32]\u001b[39m\u001b[32m, line 22\u001b[39m, in \u001b[36mpredict_tags\u001b[39m\u001b[34m(model, tokenizer, text, max_length)\u001b[39m\n\u001b[32m     15\u001b[39m     outputs = model.generate(\n\u001b[32m     16\u001b[39m         input_ids=input_ids,\n\u001b[32m     17\u001b[39m         max_length=max_length,\n\u001b[32m     18\u001b[39m         early_stopping=\u001b[38;5;28;01mTrue\u001b[39;00m,\n\u001b[32m     19\u001b[39m     )\n\u001b[32m     21\u001b[39m \u001b[38;5;66;03m# Decode the generated tokens\u001b[39;00m\n\u001b[32m---> \u001b[39m\u001b[32m22\u001b[39m predicted_tags = tokenizer.decode(\u001b[43moutputs\u001b[49m\u001b[43m[\u001b[49m\u001b[32;43m1\u001b[39;49m\u001b[43m]\u001b[49m, skip_special_tokens=\u001b[38;5;28;01mTrue\u001b[39;00m)\n\u001b[32m     24\u001b[39m \u001b[38;5;66;03m# Clean up tags - split by comma and strip whitespace\u001b[39;00m\n\u001b[32m     25\u001b[39m tags = [tag.strip() \u001b[38;5;28;01mfor\u001b[39;00m tag \u001b[38;5;129;01min\u001b[39;00m predicted_tags.split(\u001b[33m\"\u001b[39m\u001b[33m,\u001b[39m\u001b[33m\"\u001b[39m) \u001b[38;5;28;01mif\u001b[39;00m tag.strip()]\n",
      "\u001b[31mIndexError\u001b[39m: index 1 is out of bounds for dimension 0 with size 1"
     ]
    }
   ],
   "source": [
    "predicted_tags = predict_tags(model, tokenizer, df[\"quote\"].iloc[1])"
   ]
  },
  {
   "cell_type": "code",
   "execution_count": 31,
   "metadata": {},
   "outputs": [
    {
     "name": "stdout",
     "output_type": "stream",
     "text": [
      "[\"You've gotta dance like there's nobody watching\", \"Love like you'll never be hurt\", 'Sing like no one listening', \"And live like it' is heaven on earth.\"]\n"
     ]
    }
   ],
   "source": [
    "print(predicted_tags)"
   ]
  }
 ],
 "metadata": {
  "kernelspec": {
   "display_name": ".venv",
   "language": "python",
   "name": "python3"
  },
  "language_info": {
   "codemirror_mode": {
    "name": "ipython",
    "version": 3
   },
   "file_extension": ".py",
   "mimetype": "text/x-python",
   "name": "python",
   "nbconvert_exporter": "python",
   "pygments_lexer": "ipython3",
   "version": "3.11.9"
  }
 },
 "nbformat": 4,
 "nbformat_minor": 2
}
